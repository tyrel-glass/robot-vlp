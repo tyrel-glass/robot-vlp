{
 "cells": [
  {
   "cell_type": "code",
   "execution_count": 1,
   "metadata": {},
   "outputs": [
    {
     "name": "stderr",
     "output_type": "stream",
     "text": [
      "\u001b[32m2025-04-24 14:12:34.189\u001b[0m | \u001b[1mINFO    \u001b[0m | \u001b[36mrobot_vlp.config\u001b[0m:\u001b[36m<module>\u001b[0m:\u001b[36m11\u001b[0m - \u001b[1mPROJ_ROOT path is: /Users/tyrelglass/PhD/Repositories/robot-vlp\u001b[0m\n",
      "/var/folders/j0/3mr_0p157c9d4qgnmrzwc8nm0000gn/T/ipykernel_6980/2091869221.py:9: DeprecationWarning: `import kerastuner` is deprecated, please use `import keras_tuner`.\n",
      "  from kerastuner import HyperParameters\n"
     ]
    }
   ],
   "source": [
    "from robot_vlp.config import INTERIM_DATA_DIR, PROCESSED_DATA_DIR, FIGURES_DIR, MODELS_DIR, EXPERIMENT_DATA_DIR\n",
    "import pickle\n",
    "import numpy as np\n",
    "import keras\n",
    "import robot_vlp.data.preprocessing as p\n",
    "import matplotlib.pyplot as plt\n",
    "import robot_vlp.data_collection.communication as c\n",
    "import pandas as pd\n",
    "from kerastuner import HyperParameters\n",
    "import tensorflow as tf\n",
    "from tensorflow import keras\n",
    "from tensorflow.keras.layers import LSTM, GRU, Dense, Dropout, BatchNormalization, LayerNormalization, Input, Bidirectional, Attention, Add\n",
    "from tensorflow.keras.models import Model\n",
    "import kerastuner as kt\n",
    "import json\n",
    "\n",
    "import robot_vlp.modeling.gen_cnc_vlp_model as vlp\n",
    "\n",
    "import robot_vlp.data_collection.experment_processing as ep\n",
    "\n",
    "# import robot_vlp.data.odometer_path_navigation as pg\n",
    "# import robot_vlp.plots.model_performance_plotting as pp\n",
    "import robot_vlp.modeling.rnn as rnn\n",
    "import robot_vlp.stats.navigation_performance as nav\n",
    "\n",
    "from tensorflow import keras\n",
    "import tensorflow as tf\n",
    "\n",
    "%load_ext autoreload\n",
    "%autoreload 2\n",
    "\n",
    "import tensorflow as tf\n",
    "tf.config.set_visible_devices([], 'GPU')\n",
    "\n",
    "\n",
    "from robot_vlp.modeling.rnn_config import GLOBAL_CONFIG"
   ]
  },
  {
   "cell_type": "code",
   "execution_count": 2,
   "metadata": {},
   "outputs": [],
   "source": [
    "vlp_models = vlp.load_vlp_models()\n",
    "vlp_model = vlp_models['high_acc']\n",
    "# df_lst = []\n",
    "# for i in range(10):\n",
    "#     path = EXPERIMENT_DATA_DIR/f'Robot/exp1_{i}.csv'\n",
    "#     df_lst.append(ep.process_robot_exp_file(path, vlp_model))\n",
    "\n",
    "df_lst = []\n",
    "for i in range(10):\n",
    "    test_file = INTERIM_DATA_DIR / 'exp_vive_navigated_paths'/f'exp1_{i}_high_acc.csv'\n",
    "    df = pd.read_csv(test_file)\n",
    "    df_lst.append(df)\n",
    "\n",
    "train_files = df_lst[:-2]\n",
    "valid_files = df_lst[-2:-1]\n",
    "test_files = df_lst[-1:]"
   ]
  },
  {
   "cell_type": "code",
   "execution_count": 3,
   "metadata": {},
   "outputs": [],
   "source": [
    "def expand(y):\n",
    "    y_rad = y[:,2] \n",
    "    y_angles = np.column_stack((np.sin(y_rad), np.cos(y_rad)))\n",
    "    return [y[:,:2], y_angles]\n",
    "\n",
    "# Define a cosine similarity–based loss function for headings\n",
    "def cosine_loss(y_true, y_pred):\n",
    "    # Use tf.keras.losses.CosineSimilarity which returns negative values (max similarity = -1)\n",
    "    cos_sim = tf.keras.losses.CosineSimilarity(axis=1)(y_true, y_pred)\n",
    "    # Convert to a loss (0 when identical, higher when misaligned)\n",
    "    return 1 + cos_sim  # When vectors are identical, cos_sim = -1, so loss becomes 0\n",
    "\n",
    "\n",
    "def preprocess_df(df):\n",
    "    X = df[['vlp_x_hist', 'vlp_y_hist','vlp_heading_hist_rad','vlp_heading_change_rad', 'encoder_heading_change_rad', 'encoder_heading_hist_rad', 'encoder_x_hist','encoder_y_hist']].values\n",
    "    y = df[['x_hist', 'y_hist','heading_hist_rad']].values\n",
    "    X_win, y_win, m_win = p.window_data(X, y, y, overlap = 0.999999, window_len = 25)\n",
    "    return X_win, y_win, m_win\n",
    "\n",
    "\n",
    "def read_csv_to_train(file_list):\n",
    "    X_lst = []\n",
    "    y_lst = []\n",
    "    m_lst = []\n",
    "\n",
    "    for df in file_list:\n",
    "        X_win, y_win, m_win = preprocess_df(df)\n",
    "        X_lst.append(X_win)\n",
    "        y_lst.append(y_win)\n",
    "        m_lst.append(m_win)\n",
    "\n",
    "\n",
    "    X = np.concatenate(X_lst, axis = 0)\n",
    "    y = np.concatenate(y_lst, axis = 0)\n",
    "    m = np.concatenate(m_lst, axis = 0)\n",
    "\n",
    "    return X, y, m\n",
    "\n",
    "X_train, y_train, _ = read_csv_to_train(train_files)\n",
    "X_valid, y_valid, _ = read_csv_to_train(valid_files)\n",
    "X_test, y_test, _ = read_csv_to_train(test_files)\n",
    "\n",
    "X_train = np.nan_to_num(X_train, nan = 0)\n",
    "X_valid = np.nan_to_num(X_valid, nan = 0)\n",
    "X_test = np.nan_to_num(X_test, nan = 0)\n",
    "\n",
    "# after you've built `X_train` with shape (N, window, 8):\n",
    "flat = X_train.reshape(-1, X_train.shape[-1])   # shape (N*window, 8)\n",
    "rnn.feature_norm.adapt(flat)\n",
    "\n",
    "# from sklearn.preprocessing import StandardScaler\n",
    "# def fit_scale_windows(X):\n",
    "#     n_samples, window_size, n_features = X.shape\n",
    "#     scaler = StandardScaler()\n",
    "#     X_scaled = scaler.fit_transform(X.reshape(-1, n_features))\n",
    "#     X_scaled = X_scaled.reshape(n_samples, window_size, n_features)\n",
    "#     return X_scaled, scaler\n",
    "\n",
    "# def transform_windows(X, scaler):\n",
    "#     n_samples, window_size, n_features = X.shape\n",
    "#     X_scaled = scaler.transform(X.reshape(-1, n_features))\n",
    "#     return X_scaled.reshape(n_samples, window_size, n_features)\n",
    "\n",
    "# X_train_scaled, scaler = fit_scale_windows(X_train)\n",
    "# X_valid_scaled = transform_windows(X_valid, scaler)\n",
    "# X_test_scaled = transform_windows(X_test, scaler)\n",
    "\n",
    "\n",
    "\n",
    "\n",
    "# def normalize_angle_deg(angle):\n",
    "#     \"\"\"Normalize an angle in degrees to the range [-180, 180].\"\"\"\n",
    "#     return (angle + 180) % 360 - 180\n",
    "\n",
    "# def vec_to_ang(pre_ang):\n",
    "#     return np.arctan2(pre_ang[:,0], pre_ang[:,1]) * 180/ np.pi\n",
    "\n",
    "# vlp_ang_errs = y_test[:,2] -  X_test[:,-1,2]\n",
    "# vlp_ang_errs = np.array([normalize_angle_deg(ang) for ang in vlp_ang_errs])\n",
    "\n",
    "\n",
    "# vlp_loc_errs = nav.calc_loc_err(X_test[:,-1,:2], y_test[:,:2])"
   ]
  },
  {
   "cell_type": "markdown",
   "metadata": {},
   "source": [
    "## RNN Hyperparameter tuning"
   ]
  },
  {
   "cell_type": "markdown",
   "metadata": {},
   "source": [
    "### Stage 1 parameter tuning - neurons and layers"
   ]
  },
  {
   "cell_type": "code",
   "execution_count": 9,
   "metadata": {},
   "outputs": [
    {
     "name": "stdout",
     "output_type": "stream",
     "text": [
      "Reloading Tuner from rnn_tuning/rnn_random_search/tuner0.json\n"
     ]
    }
   ],
   "source": [
    "\n",
    "tuner = kt.RandomSearch(\n",
    "    rnn.build_architecture_model,   # ← use your config‑driven builder\n",
    "    objective=\"val_loss\",\n",
    "    max_trials=100,\n",
    "    directory=\"rnn_tuning\",\n",
    "    project_name=\"rnn_random_search\",\n",
    "    overwrite=False\n",
    ")\n",
    "\n",
    "tensorboard_callback = tf.keras.callbacks.TensorBoard(\n",
    "    \"logs/random_search\", histogram_freq=1\n",
    ")\n",
    "\n",
    "tuner.search(\n",
    "    X_train,\n",
    "    expand(y_train),\n",
    "    epochs=100,\n",
    "    validation_split=0.2,\n",
    "    callbacks=[\n",
    "        tf.keras.callbacks.EarlyStopping(\n",
    "            monitor=\"val_loss\", patience=5, restore_best_weights=True\n",
    "        ),\n",
    "        tensorboard_callback\n",
    "    ]\n",
    ")\n"
   ]
  },
  {
   "cell_type": "code",
   "execution_count": 10,
   "metadata": {},
   "outputs": [
    {
     "name": "stdout",
     "output_type": "stream",
     "text": [
      "✅ GLOBAL_CONFIG updated: {'num_layers': 4, 'recurrent_units': [32, 8, 16, 8]}\n"
     ]
    }
   ],
   "source": [
    "# Extract the top 10 trials from your tuner\n",
    "best_trials = tuner.oracle.get_best_trials(num_trials=10)\n",
    "\n",
    "rows = []\n",
    "for trial in best_trials:\n",
    "    hp = trial.hyperparameters\n",
    "    # Pull out architecture hyperparameters\n",
    "    num_layers = hp.get('num_layers')\n",
    "    rec_units = [hp.get(f'recurrent_units_{i}') for i in range(num_layers)]\n",
    "    # Pad to a fixed width (max 4 layers)\n",
    "    rec_units += [None] * (4 - len(rec_units))\n",
    "    # Get the best validation loss achieved by this trial\n",
    "    val_loss = trial.metrics.get_best_value('val_loss')\n",
    "    \n",
    "    rows.append({\n",
    "        'trial_id': trial.trial_id,\n",
    "        'val_loss': val_loss,\n",
    "        'num_layers': num_layers,\n",
    "        'units_layer_0': rec_units[0],\n",
    "        'units_layer_1': rec_units[1],\n",
    "        'units_layer_2': rec_units[2],\n",
    "        'units_layer_3': rec_units[3],\n",
    "    })\n",
    "\n",
    "# Build and display a DataFrame\n",
    "df_top10 = pd.DataFrame(rows).sort_values('val_loss').reset_index(drop=True)\n",
    "df_top10\n",
    "\n",
    "\n",
    "\n",
    "# 1) Grab the best HP from stage 1\n",
    "best_hp = tuner.get_best_hyperparameters(1)[0]\n",
    "\n",
    "# 2) Update GLOBAL_CONFIG in memory\n",
    "GLOBAL_CONFIG[\"best_architecture\"] = {\n",
    "    \"num_layers\": best_hp.get(\"num_layers\"),\n",
    "    \"recurrent_units\": [\n",
    "        best_hp.get(f\"recurrent_units_{i}\") \n",
    "        for i in range(best_hp.get(\"num_layers\"))\n",
    "    ]\n",
    "}\n",
    "\n",
    "# 3) (Optional) Persist to disk as config.json\n",
    "with open(\"config.json\", \"w\") as f:\n",
    "    json.dump(GLOBAL_CONFIG, f, indent=2)\n",
    "\n",
    "print(\"✅ GLOBAL_CONFIG updated:\", GLOBAL_CONFIG[\"best_architecture\"])"
   ]
  },
  {
   "cell_type": "code",
   "execution_count": 11,
   "metadata": {},
   "outputs": [
    {
     "data": {
      "text/html": [
       "<div>\n",
       "<style scoped>\n",
       "    .dataframe tbody tr th:only-of-type {\n",
       "        vertical-align: middle;\n",
       "    }\n",
       "\n",
       "    .dataframe tbody tr th {\n",
       "        vertical-align: top;\n",
       "    }\n",
       "\n",
       "    .dataframe thead th {\n",
       "        text-align: right;\n",
       "    }\n",
       "</style>\n",
       "<table border=\"1\" class=\"dataframe\">\n",
       "  <thead>\n",
       "    <tr style=\"text-align: right;\">\n",
       "      <th></th>\n",
       "      <th>trial_id</th>\n",
       "      <th>val_loss</th>\n",
       "      <th>num_layers</th>\n",
       "      <th>units_layer_0</th>\n",
       "      <th>units_layer_1</th>\n",
       "      <th>units_layer_2</th>\n",
       "      <th>units_layer_3</th>\n",
       "    </tr>\n",
       "  </thead>\n",
       "  <tbody>\n",
       "    <tr>\n",
       "      <th>0</th>\n",
       "      <td>051</td>\n",
       "      <td>0.004667</td>\n",
       "      <td>4</td>\n",
       "      <td>32</td>\n",
       "      <td>8.0</td>\n",
       "      <td>16.0</td>\n",
       "      <td>8.0</td>\n",
       "    </tr>\n",
       "    <tr>\n",
       "      <th>1</th>\n",
       "      <td>070</td>\n",
       "      <td>0.004759</td>\n",
       "      <td>2</td>\n",
       "      <td>64</td>\n",
       "      <td>128.0</td>\n",
       "      <td>NaN</td>\n",
       "      <td>NaN</td>\n",
       "    </tr>\n",
       "    <tr>\n",
       "      <th>2</th>\n",
       "      <td>042</td>\n",
       "      <td>0.004927</td>\n",
       "      <td>2</td>\n",
       "      <td>64</td>\n",
       "      <td>128.0</td>\n",
       "      <td>NaN</td>\n",
       "      <td>NaN</td>\n",
       "    </tr>\n",
       "    <tr>\n",
       "      <th>3</th>\n",
       "      <td>080</td>\n",
       "      <td>0.005208</td>\n",
       "      <td>3</td>\n",
       "      <td>64</td>\n",
       "      <td>32.0</td>\n",
       "      <td>16.0</td>\n",
       "      <td>NaN</td>\n",
       "    </tr>\n",
       "    <tr>\n",
       "      <th>4</th>\n",
       "      <td>015</td>\n",
       "      <td>0.005290</td>\n",
       "      <td>1</td>\n",
       "      <td>32</td>\n",
       "      <td>NaN</td>\n",
       "      <td>NaN</td>\n",
       "      <td>NaN</td>\n",
       "    </tr>\n",
       "    <tr>\n",
       "      <th>5</th>\n",
       "      <td>096</td>\n",
       "      <td>0.005292</td>\n",
       "      <td>3</td>\n",
       "      <td>128</td>\n",
       "      <td>32.0</td>\n",
       "      <td>16.0</td>\n",
       "      <td>NaN</td>\n",
       "    </tr>\n",
       "    <tr>\n",
       "      <th>6</th>\n",
       "      <td>026</td>\n",
       "      <td>0.005370</td>\n",
       "      <td>1</td>\n",
       "      <td>64</td>\n",
       "      <td>NaN</td>\n",
       "      <td>NaN</td>\n",
       "      <td>NaN</td>\n",
       "    </tr>\n",
       "    <tr>\n",
       "      <th>7</th>\n",
       "      <td>088</td>\n",
       "      <td>0.005616</td>\n",
       "      <td>1</td>\n",
       "      <td>64</td>\n",
       "      <td>NaN</td>\n",
       "      <td>NaN</td>\n",
       "      <td>NaN</td>\n",
       "    </tr>\n",
       "    <tr>\n",
       "      <th>8</th>\n",
       "      <td>063</td>\n",
       "      <td>0.005668</td>\n",
       "      <td>2</td>\n",
       "      <td>128</td>\n",
       "      <td>32.0</td>\n",
       "      <td>NaN</td>\n",
       "      <td>NaN</td>\n",
       "    </tr>\n",
       "    <tr>\n",
       "      <th>9</th>\n",
       "      <td>021</td>\n",
       "      <td>0.005686</td>\n",
       "      <td>3</td>\n",
       "      <td>64</td>\n",
       "      <td>32.0</td>\n",
       "      <td>32.0</td>\n",
       "      <td>NaN</td>\n",
       "    </tr>\n",
       "  </tbody>\n",
       "</table>\n",
       "</div>"
      ],
      "text/plain": [
       "  trial_id  val_loss  num_layers  units_layer_0  units_layer_1  units_layer_2  \\\n",
       "0      051  0.004667           4             32            8.0           16.0   \n",
       "1      070  0.004759           2             64          128.0            NaN   \n",
       "2      042  0.004927           2             64          128.0            NaN   \n",
       "3      080  0.005208           3             64           32.0           16.0   \n",
       "4      015  0.005290           1             32            NaN            NaN   \n",
       "5      096  0.005292           3            128           32.0           16.0   \n",
       "6      026  0.005370           1             64            NaN            NaN   \n",
       "7      088  0.005616           1             64            NaN            NaN   \n",
       "8      063  0.005668           2            128           32.0            NaN   \n",
       "9      021  0.005686           3             64           32.0           32.0   \n",
       "\n",
       "   units_layer_3  \n",
       "0            8.0  \n",
       "1            NaN  \n",
       "2            NaN  \n",
       "3            NaN  \n",
       "4            NaN  \n",
       "5            NaN  \n",
       "6            NaN  \n",
       "7            NaN  \n",
       "8            NaN  \n",
       "9            NaN  "
      ]
     },
     "execution_count": 11,
     "metadata": {},
     "output_type": "execute_result"
    }
   ],
   "source": [
    "df_top10"
   ]
  },
  {
   "cell_type": "markdown",
   "metadata": {},
   "source": [
    "### Stage 2 tuning - regularization"
   ]
  },
  {
   "cell_type": "code",
   "execution_count": 12,
   "metadata": {},
   "outputs": [
    {
     "name": "stdout",
     "output_type": "stream",
     "text": [
      "Reloading Tuner from rnn_tuning_stage2/rnn_reg_tuning/tuner0.json\n"
     ]
    }
   ],
   "source": [
    "tuner = kt.RandomSearch(\n",
    "    rnn.build_regularization_model,  # Your stage 2 model-building function\n",
    "    objective=\"val_loss\",\n",
    "    max_trials=50,\n",
    "    directory=\"rnn_tuning_stage2\",  # New directory for stage 2\n",
    "    project_name=\"rnn_reg_tuning\",\n",
    "    overwrite=False\n",
    ")\n",
    "\n",
    "# ✅ Enable TensorBoard Logging\n",
    "tensorboard_callback = tf.keras.callbacks.TensorBoard(\"logs/random_search_2\", histogram_freq=1)\n",
    "\n",
    "# ✅ Start tuning with random search\n",
    "tuner.search(\n",
    "    X_train, expand(y_train),\n",
    "    epochs = 50,\n",
    "    validation_split=0.2,\n",
    "    callbacks=[\n",
    "        keras.callbacks.EarlyStopping(monitor=\"val_loss\", patience=5, restore_best_weights=True),\n",
    "        tensorboard_callback\n",
    "    ]\n",
    ")"
   ]
  },
  {
   "cell_type": "code",
   "execution_count": 13,
   "metadata": {},
   "outputs": [
    {
     "name": "stdout",
     "output_type": "stream",
     "text": [
      "✅ GLOBAL_CONFIG updated: {'num_layers': 4, 'recurrent_units': [32, 8, 16, 8]}\n"
     ]
    }
   ],
   "source": [
    "# Run this right after tuner.search(...)\n",
    "best_hp = tuner.get_best_hyperparameters(1)[0]\n",
    "\n",
    "\n",
    "# Build your new regularization_defaults entry\n",
    "num_layers = GLOBAL_CONFIG[\"best_architecture\"][\"num_layers\"]\n",
    "GLOBAL_CONFIG[\"regularization_defaults\"] = {\n",
    "  \"dropout\": [best_hp.get(f\"dropout_{i}\") for i in range(num_layers)],\n",
    "  \"recurrent_dropout\": [best_hp.get(f\"recurrent_dropout_{i}\") for i in range(num_layers)],\n",
    "  \"batch_norm\": [best_hp.get(f\"batch_norm_{i}\") for i in range(num_layers)],\n",
    "  \"layer_norm\": [ best_hp.get(f\"layer_norm_{i}\") for i in range(num_layers) ]\n",
    "}\n",
    "\n",
    "# 3) (Optional) Persist to disk as config.json\n",
    "with open(\"config.json\", \"w\") as f:\n",
    "    json.dump(GLOBAL_CONFIG, f, indent=2)\n",
    "\n",
    "print(\"✅ GLOBAL_CONFIG updated:\", GLOBAL_CONFIG[\"best_architecture\"])"
   ]
  },
  {
   "cell_type": "markdown",
   "metadata": {},
   "source": [
    "### Stage 3 tuning - Optimization parameters"
   ]
  },
  {
   "cell_type": "code",
   "execution_count": 19,
   "metadata": {},
   "outputs": [
    {
     "name": "stdout",
     "output_type": "stream",
     "text": [
      "Trial 12 Complete [00h 03m 16s]\n",
      "val_loss: 0.00833164993673563\n",
      "\n",
      "Best val_loss So Far: 0.004658818244934082\n",
      "Total elapsed time: 00h 29m 43s\n",
      "\n",
      "Search: Running Trial #13\n",
      "\n",
      "Value             |Best Value So Far |Hyperparameter\n",
      "0.0010748         |0.0058041         |lr\n",
      "none              |cosine            |scheduler\n",
      "sgd               |adam              |optimizer\n",
      "16000             |16000             |decay_steps_cosine\n",
      "1000              |5000              |decay_steps_exp\n",
      "0.92552           |0.89638           |decay_rate_exp\n",
      "\n",
      "Epoch 1/100\n",
      "\u001b[1m294/294\u001b[0m \u001b[32m━━━━━━━━━━━━━━━━━━━━\u001b[0m\u001b[37m\u001b[0m \u001b[1m5s\u001b[0m 10ms/step - angle_output_loss: 0.5004 - loc_output_loss: 0.1064 - loss: 0.6068 - val_angle_output_loss: 0.3752 - val_loc_output_loss: 0.0228 - val_loss: 0.3983\n",
      "Epoch 2/100\n",
      "\u001b[1m294/294\u001b[0m \u001b[32m━━━━━━━━━━━━━━━━━━━━\u001b[0m\u001b[37m\u001b[0m \u001b[1m3s\u001b[0m 11ms/step - angle_output_loss: 0.3825 - loc_output_loss: 0.0303 - loss: 0.4128 - val_angle_output_loss: 0.3245 - val_loc_output_loss: 0.0147 - val_loss: 0.3393\n",
      "Epoch 3/100\n",
      "\u001b[1m294/294\u001b[0m \u001b[32m━━━━━━━━━━━━━━━━━━━━\u001b[0m\u001b[37m\u001b[0m \u001b[1m3s\u001b[0m 10ms/step - angle_output_loss: 0.3337 - loc_output_loss: 0.0223 - loss: 0.3559 - val_angle_output_loss: 0.2841 - val_loc_output_loss: 0.0114 - val_loss: 0.2954\n",
      "Epoch 4/100\n",
      "\u001b[1m294/294\u001b[0m \u001b[32m━━━━━━━━━━━━━━━━━━━━\u001b[0m\u001b[37m\u001b[0m \u001b[1m3s\u001b[0m 11ms/step - angle_output_loss: 0.2996 - loc_output_loss: 0.0184 - loss: 0.3180 - val_angle_output_loss: 0.2448 - val_loc_output_loss: 0.0100 - val_loss: 0.2546\n",
      "Epoch 5/100\n",
      "\u001b[1m294/294\u001b[0m \u001b[32m━━━━━━━━━━━━━━━━━━━━\u001b[0m\u001b[37m\u001b[0m \u001b[1m3s\u001b[0m 11ms/step - angle_output_loss: 0.2578 - loc_output_loss: 0.0154 - loss: 0.2732 - val_angle_output_loss: 0.2103 - val_loc_output_loss: 0.0090 - val_loss: 0.2190\n",
      "Epoch 6/100\n",
      "\u001b[1m193/294\u001b[0m \u001b[32m━━━━━━━━━━━━━\u001b[0m\u001b[37m━━━━━━━\u001b[0m \u001b[1m0s\u001b[0m 9ms/step - angle_output_loss: 0.2295 - loc_output_loss: 0.0142 - loss: 0.2437"
     ]
    },
    {
     "ename": "KeyboardInterrupt",
     "evalue": "",
     "output_type": "error",
     "traceback": [
      "\u001b[0;31m---------------------------------------------------------------------------\u001b[0m",
      "\u001b[0;31mKeyboardInterrupt\u001b[0m                         Traceback (most recent call last)",
      "Cell \u001b[0;32mIn[19], line 12\u001b[0m\n\u001b[1;32m      1\u001b[0m tuner \u001b[38;5;241m=\u001b[39m kt\u001b[38;5;241m.\u001b[39mRandomSearch(\n\u001b[1;32m      2\u001b[0m     rnn\u001b[38;5;241m.\u001b[39mbuild_optimization_model,  \u001b[38;5;66;03m# Stage 3 model function\u001b[39;00m\n\u001b[1;32m      3\u001b[0m     objective\u001b[38;5;241m=\u001b[39m\u001b[38;5;124m\"\u001b[39m\u001b[38;5;124mval_loss\u001b[39m\u001b[38;5;124m\"\u001b[39m,\n\u001b[0;32m   (...)\u001b[0m\n\u001b[1;32m      7\u001b[0m     overwrite\u001b[38;5;241m=\u001b[39m\u001b[38;5;28;01mTrue\u001b[39;00m\n\u001b[1;32m      8\u001b[0m )\n\u001b[1;32m     10\u001b[0m tensorboard_callback \u001b[38;5;241m=\u001b[39m tf\u001b[38;5;241m.\u001b[39mkeras\u001b[38;5;241m.\u001b[39mcallbacks\u001b[38;5;241m.\u001b[39mTensorBoard(\u001b[38;5;124m\"\u001b[39m\u001b[38;5;124mlogs/opt_tuning\u001b[39m\u001b[38;5;124m\"\u001b[39m, histogram_freq\u001b[38;5;241m=\u001b[39m\u001b[38;5;241m1\u001b[39m)\n\u001b[0;32m---> 12\u001b[0m \u001b[43mtuner\u001b[49m\u001b[38;5;241;43m.\u001b[39;49m\u001b[43msearch\u001b[49m\u001b[43m(\u001b[49m\n\u001b[1;32m     13\u001b[0m \u001b[43m    \u001b[49m\u001b[43mX_train_scaled\u001b[49m\u001b[43m,\u001b[49m\u001b[43m \u001b[49m\u001b[43mexpand\u001b[49m\u001b[43m(\u001b[49m\u001b[43my_train\u001b[49m\u001b[43m)\u001b[49m\u001b[43m,\u001b[49m\n\u001b[1;32m     14\u001b[0m \u001b[43m    \u001b[49m\u001b[43mepochs\u001b[49m\u001b[38;5;241;43m=\u001b[39;49m\u001b[38;5;241;43m100\u001b[39;49m\u001b[43m,\u001b[49m\n\u001b[1;32m     15\u001b[0m \u001b[43m    \u001b[49m\u001b[43mvalidation_split\u001b[49m\u001b[38;5;241;43m=\u001b[39;49m\u001b[38;5;241;43m0.2\u001b[39;49m\u001b[43m,\u001b[49m\n\u001b[1;32m     16\u001b[0m \u001b[43m    \u001b[49m\u001b[43mcallbacks\u001b[49m\u001b[38;5;241;43m=\u001b[39;49m\u001b[43m[\u001b[49m\n\u001b[1;32m     17\u001b[0m \u001b[43m        \u001b[49m\u001b[43mkeras\u001b[49m\u001b[38;5;241;43m.\u001b[39;49m\u001b[43mcallbacks\u001b[49m\u001b[38;5;241;43m.\u001b[39;49m\u001b[43mEarlyStopping\u001b[49m\u001b[43m(\u001b[49m\u001b[43mmonitor\u001b[49m\u001b[38;5;241;43m=\u001b[39;49m\u001b[38;5;124;43m\"\u001b[39;49m\u001b[38;5;124;43mval_loss\u001b[39;49m\u001b[38;5;124;43m\"\u001b[39;49m\u001b[43m,\u001b[49m\u001b[43m \u001b[49m\u001b[43mpatience\u001b[49m\u001b[38;5;241;43m=\u001b[39;49m\u001b[38;5;241;43m5\u001b[39;49m\u001b[43m,\u001b[49m\u001b[43m \u001b[49m\u001b[43mrestore_best_weights\u001b[49m\u001b[38;5;241;43m=\u001b[39;49m\u001b[38;5;28;43;01mTrue\u001b[39;49;00m\u001b[43m)\u001b[49m\u001b[43m,\u001b[49m\n\u001b[1;32m     18\u001b[0m \u001b[43m        \u001b[49m\u001b[43mtensorboard_callback\u001b[49m\n\u001b[1;32m     19\u001b[0m \u001b[43m    \u001b[49m\u001b[43m]\u001b[49m\n\u001b[1;32m     20\u001b[0m \u001b[43m)\u001b[49m\n",
      "File \u001b[0;32m~/miniforge3/envs/robot-vlp/lib/python3.10/site-packages/keras_tuner/src/engine/base_tuner.py:234\u001b[0m, in \u001b[0;36mBaseTuner.search\u001b[0;34m(self, *fit_args, **fit_kwargs)\u001b[0m\n\u001b[1;32m    231\u001b[0m         \u001b[38;5;28;01mcontinue\u001b[39;00m\n\u001b[1;32m    233\u001b[0m     \u001b[38;5;28mself\u001b[39m\u001b[38;5;241m.\u001b[39mon_trial_begin(trial)\n\u001b[0;32m--> 234\u001b[0m     \u001b[38;5;28;43mself\u001b[39;49m\u001b[38;5;241;43m.\u001b[39;49m\u001b[43m_try_run_and_update_trial\u001b[49m\u001b[43m(\u001b[49m\u001b[43mtrial\u001b[49m\u001b[43m,\u001b[49m\u001b[43m \u001b[49m\u001b[38;5;241;43m*\u001b[39;49m\u001b[43mfit_args\u001b[49m\u001b[43m,\u001b[49m\u001b[43m \u001b[49m\u001b[38;5;241;43m*\u001b[39;49m\u001b[38;5;241;43m*\u001b[39;49m\u001b[43mfit_kwargs\u001b[49m\u001b[43m)\u001b[49m\n\u001b[1;32m    235\u001b[0m     \u001b[38;5;28mself\u001b[39m\u001b[38;5;241m.\u001b[39mon_trial_end(trial)\n\u001b[1;32m    236\u001b[0m \u001b[38;5;28mself\u001b[39m\u001b[38;5;241m.\u001b[39mon_search_end()\n",
      "File \u001b[0;32m~/miniforge3/envs/robot-vlp/lib/python3.10/site-packages/keras_tuner/src/engine/base_tuner.py:274\u001b[0m, in \u001b[0;36mBaseTuner._try_run_and_update_trial\u001b[0;34m(self, trial, *fit_args, **fit_kwargs)\u001b[0m\n\u001b[1;32m    272\u001b[0m \u001b[38;5;28;01mdef\u001b[39;00m \u001b[38;5;21m_try_run_and_update_trial\u001b[39m(\u001b[38;5;28mself\u001b[39m, trial, \u001b[38;5;241m*\u001b[39mfit_args, \u001b[38;5;241m*\u001b[39m\u001b[38;5;241m*\u001b[39mfit_kwargs):\n\u001b[1;32m    273\u001b[0m     \u001b[38;5;28;01mtry\u001b[39;00m:\n\u001b[0;32m--> 274\u001b[0m         \u001b[38;5;28;43mself\u001b[39;49m\u001b[38;5;241;43m.\u001b[39;49m\u001b[43m_run_and_update_trial\u001b[49m\u001b[43m(\u001b[49m\u001b[43mtrial\u001b[49m\u001b[43m,\u001b[49m\u001b[43m \u001b[49m\u001b[38;5;241;43m*\u001b[39;49m\u001b[43mfit_args\u001b[49m\u001b[43m,\u001b[49m\u001b[43m \u001b[49m\u001b[38;5;241;43m*\u001b[39;49m\u001b[38;5;241;43m*\u001b[39;49m\u001b[43mfit_kwargs\u001b[49m\u001b[43m)\u001b[49m\n\u001b[1;32m    275\u001b[0m         trial\u001b[38;5;241m.\u001b[39mstatus \u001b[38;5;241m=\u001b[39m trial_module\u001b[38;5;241m.\u001b[39mTrialStatus\u001b[38;5;241m.\u001b[39mCOMPLETED\n\u001b[1;32m    276\u001b[0m         \u001b[38;5;28;01mreturn\u001b[39;00m\n",
      "File \u001b[0;32m~/miniforge3/envs/robot-vlp/lib/python3.10/site-packages/keras_tuner/src/engine/base_tuner.py:239\u001b[0m, in \u001b[0;36mBaseTuner._run_and_update_trial\u001b[0;34m(self, trial, *fit_args, **fit_kwargs)\u001b[0m\n\u001b[1;32m    238\u001b[0m \u001b[38;5;28;01mdef\u001b[39;00m \u001b[38;5;21m_run_and_update_trial\u001b[39m(\u001b[38;5;28mself\u001b[39m, trial, \u001b[38;5;241m*\u001b[39mfit_args, \u001b[38;5;241m*\u001b[39m\u001b[38;5;241m*\u001b[39mfit_kwargs):\n\u001b[0;32m--> 239\u001b[0m     results \u001b[38;5;241m=\u001b[39m \u001b[38;5;28;43mself\u001b[39;49m\u001b[38;5;241;43m.\u001b[39;49m\u001b[43mrun_trial\u001b[49m\u001b[43m(\u001b[49m\u001b[43mtrial\u001b[49m\u001b[43m,\u001b[49m\u001b[43m \u001b[49m\u001b[38;5;241;43m*\u001b[39;49m\u001b[43mfit_args\u001b[49m\u001b[43m,\u001b[49m\u001b[43m \u001b[49m\u001b[38;5;241;43m*\u001b[39;49m\u001b[38;5;241;43m*\u001b[39;49m\u001b[43mfit_kwargs\u001b[49m\u001b[43m)\u001b[49m\n\u001b[1;32m    240\u001b[0m     \u001b[38;5;28;01mif\u001b[39;00m \u001b[38;5;28mself\u001b[39m\u001b[38;5;241m.\u001b[39moracle\u001b[38;5;241m.\u001b[39mget_trial(trial\u001b[38;5;241m.\u001b[39mtrial_id)\u001b[38;5;241m.\u001b[39mmetrics\u001b[38;5;241m.\u001b[39mexists(\n\u001b[1;32m    241\u001b[0m         \u001b[38;5;28mself\u001b[39m\u001b[38;5;241m.\u001b[39moracle\u001b[38;5;241m.\u001b[39mobjective\u001b[38;5;241m.\u001b[39mname\n\u001b[1;32m    242\u001b[0m     ):\n\u001b[1;32m    243\u001b[0m         \u001b[38;5;66;03m# The oracle is updated by calling `self.oracle.update_trial()` in\u001b[39;00m\n\u001b[1;32m    244\u001b[0m         \u001b[38;5;66;03m# `Tuner.run_trial()`. For backward compatibility, we support this\u001b[39;00m\n\u001b[1;32m    245\u001b[0m         \u001b[38;5;66;03m# use case. No further action needed in this case.\u001b[39;00m\n\u001b[1;32m    246\u001b[0m         warnings\u001b[38;5;241m.\u001b[39mwarn(\n\u001b[1;32m    247\u001b[0m             \u001b[38;5;124m\"\u001b[39m\u001b[38;5;124mThe use case of calling \u001b[39m\u001b[38;5;124m\"\u001b[39m\n\u001b[1;32m    248\u001b[0m             \u001b[38;5;124m\"\u001b[39m\u001b[38;5;124m`self.oracle.update_trial(trial_id, metrics)` \u001b[39m\u001b[38;5;124m\"\u001b[39m\n\u001b[0;32m   (...)\u001b[0m\n\u001b[1;32m    254\u001b[0m             stacklevel\u001b[38;5;241m=\u001b[39m\u001b[38;5;241m2\u001b[39m,\n\u001b[1;32m    255\u001b[0m         )\n",
      "File \u001b[0;32m~/miniforge3/envs/robot-vlp/lib/python3.10/site-packages/keras_tuner/src/engine/tuner.py:314\u001b[0m, in \u001b[0;36mTuner.run_trial\u001b[0;34m(self, trial, *args, **kwargs)\u001b[0m\n\u001b[1;32m    312\u001b[0m     callbacks\u001b[38;5;241m.\u001b[39mappend(model_checkpoint)\n\u001b[1;32m    313\u001b[0m     copied_kwargs[\u001b[38;5;124m\"\u001b[39m\u001b[38;5;124mcallbacks\u001b[39m\u001b[38;5;124m\"\u001b[39m] \u001b[38;5;241m=\u001b[39m callbacks\n\u001b[0;32m--> 314\u001b[0m     obj_value \u001b[38;5;241m=\u001b[39m \u001b[38;5;28;43mself\u001b[39;49m\u001b[38;5;241;43m.\u001b[39;49m\u001b[43m_build_and_fit_model\u001b[49m\u001b[43m(\u001b[49m\u001b[43mtrial\u001b[49m\u001b[43m,\u001b[49m\u001b[43m \u001b[49m\u001b[38;5;241;43m*\u001b[39;49m\u001b[43margs\u001b[49m\u001b[43m,\u001b[49m\u001b[43m \u001b[49m\u001b[38;5;241;43m*\u001b[39;49m\u001b[38;5;241;43m*\u001b[39;49m\u001b[43mcopied_kwargs\u001b[49m\u001b[43m)\u001b[49m\n\u001b[1;32m    316\u001b[0m     histories\u001b[38;5;241m.\u001b[39mappend(obj_value)\n\u001b[1;32m    317\u001b[0m \u001b[38;5;28;01mreturn\u001b[39;00m histories\n",
      "File \u001b[0;32m~/miniforge3/envs/robot-vlp/lib/python3.10/site-packages/keras_tuner/src/engine/tuner.py:233\u001b[0m, in \u001b[0;36mTuner._build_and_fit_model\u001b[0;34m(self, trial, *args, **kwargs)\u001b[0m\n\u001b[1;32m    231\u001b[0m hp \u001b[38;5;241m=\u001b[39m trial\u001b[38;5;241m.\u001b[39mhyperparameters\n\u001b[1;32m    232\u001b[0m model \u001b[38;5;241m=\u001b[39m \u001b[38;5;28mself\u001b[39m\u001b[38;5;241m.\u001b[39m_try_build(hp)\n\u001b[0;32m--> 233\u001b[0m results \u001b[38;5;241m=\u001b[39m \u001b[38;5;28;43mself\u001b[39;49m\u001b[38;5;241;43m.\u001b[39;49m\u001b[43mhypermodel\u001b[49m\u001b[38;5;241;43m.\u001b[39;49m\u001b[43mfit\u001b[49m\u001b[43m(\u001b[49m\u001b[43mhp\u001b[49m\u001b[43m,\u001b[49m\u001b[43m \u001b[49m\u001b[43mmodel\u001b[49m\u001b[43m,\u001b[49m\u001b[43m \u001b[49m\u001b[38;5;241;43m*\u001b[39;49m\u001b[43margs\u001b[49m\u001b[43m,\u001b[49m\u001b[43m \u001b[49m\u001b[38;5;241;43m*\u001b[39;49m\u001b[38;5;241;43m*\u001b[39;49m\u001b[43mkwargs\u001b[49m\u001b[43m)\u001b[49m\n\u001b[1;32m    235\u001b[0m \u001b[38;5;66;03m# Save the build config for model loading later.\u001b[39;00m\n\u001b[1;32m    236\u001b[0m \u001b[38;5;28;01mif\u001b[39;00m backend\u001b[38;5;241m.\u001b[39mconfig\u001b[38;5;241m.\u001b[39mmulti_backend():\n",
      "File \u001b[0;32m~/miniforge3/envs/robot-vlp/lib/python3.10/site-packages/keras_tuner/src/engine/hypermodel.py:149\u001b[0m, in \u001b[0;36mHyperModel.fit\u001b[0;34m(self, hp, model, *args, **kwargs)\u001b[0m\n\u001b[1;32m    125\u001b[0m \u001b[38;5;28;01mdef\u001b[39;00m \u001b[38;5;21mfit\u001b[39m(\u001b[38;5;28mself\u001b[39m, hp, model, \u001b[38;5;241m*\u001b[39margs, \u001b[38;5;241m*\u001b[39m\u001b[38;5;241m*\u001b[39mkwargs):\n\u001b[1;32m    126\u001b[0m \u001b[38;5;250m    \u001b[39m\u001b[38;5;124;03m\"\"\"Train the model.\u001b[39;00m\n\u001b[1;32m    127\u001b[0m \n\u001b[1;32m    128\u001b[0m \u001b[38;5;124;03m    Args:\u001b[39;00m\n\u001b[0;32m   (...)\u001b[0m\n\u001b[1;32m    147\u001b[0m \u001b[38;5;124;03m        If return a float, it should be the `objective` value.\u001b[39;00m\n\u001b[1;32m    148\u001b[0m \u001b[38;5;124;03m    \"\"\"\u001b[39;00m\n\u001b[0;32m--> 149\u001b[0m     \u001b[38;5;28;01mreturn\u001b[39;00m \u001b[43mmodel\u001b[49m\u001b[38;5;241;43m.\u001b[39;49m\u001b[43mfit\u001b[49m\u001b[43m(\u001b[49m\u001b[38;5;241;43m*\u001b[39;49m\u001b[43margs\u001b[49m\u001b[43m,\u001b[49m\u001b[43m \u001b[49m\u001b[38;5;241;43m*\u001b[39;49m\u001b[38;5;241;43m*\u001b[39;49m\u001b[43mkwargs\u001b[49m\u001b[43m)\u001b[49m\n",
      "File \u001b[0;32m~/miniforge3/envs/robot-vlp/lib/python3.10/site-packages/keras/src/utils/traceback_utils.py:117\u001b[0m, in \u001b[0;36mfilter_traceback.<locals>.error_handler\u001b[0;34m(*args, **kwargs)\u001b[0m\n\u001b[1;32m    115\u001b[0m filtered_tb \u001b[38;5;241m=\u001b[39m \u001b[38;5;28;01mNone\u001b[39;00m\n\u001b[1;32m    116\u001b[0m \u001b[38;5;28;01mtry\u001b[39;00m:\n\u001b[0;32m--> 117\u001b[0m     \u001b[38;5;28;01mreturn\u001b[39;00m \u001b[43mfn\u001b[49m\u001b[43m(\u001b[49m\u001b[38;5;241;43m*\u001b[39;49m\u001b[43margs\u001b[49m\u001b[43m,\u001b[49m\u001b[43m \u001b[49m\u001b[38;5;241;43m*\u001b[39;49m\u001b[38;5;241;43m*\u001b[39;49m\u001b[43mkwargs\u001b[49m\u001b[43m)\u001b[49m\n\u001b[1;32m    118\u001b[0m \u001b[38;5;28;01mexcept\u001b[39;00m \u001b[38;5;167;01mException\u001b[39;00m \u001b[38;5;28;01mas\u001b[39;00m e:\n\u001b[1;32m    119\u001b[0m     filtered_tb \u001b[38;5;241m=\u001b[39m _process_traceback_frames(e\u001b[38;5;241m.\u001b[39m__traceback__)\n",
      "File \u001b[0;32m~/miniforge3/envs/robot-vlp/lib/python3.10/site-packages/keras/src/backend/tensorflow/trainer.py:320\u001b[0m, in \u001b[0;36mTensorFlowTrainer.fit\u001b[0;34m(self, x, y, batch_size, epochs, verbose, callbacks, validation_split, validation_data, shuffle, class_weight, sample_weight, initial_epoch, steps_per_epoch, validation_steps, validation_batch_size, validation_freq)\u001b[0m\n\u001b[1;32m    318\u001b[0m \u001b[38;5;28;01mfor\u001b[39;00m step, iterator \u001b[38;5;129;01min\u001b[39;00m epoch_iterator\u001b[38;5;241m.\u001b[39menumerate_epoch():\n\u001b[1;32m    319\u001b[0m     callbacks\u001b[38;5;241m.\u001b[39mon_train_batch_begin(step)\n\u001b[0;32m--> 320\u001b[0m     logs \u001b[38;5;241m=\u001b[39m \u001b[38;5;28;43mself\u001b[39;49m\u001b[38;5;241;43m.\u001b[39;49m\u001b[43mtrain_function\u001b[49m\u001b[43m(\u001b[49m\u001b[43miterator\u001b[49m\u001b[43m)\u001b[49m\n\u001b[1;32m    321\u001b[0m     callbacks\u001b[38;5;241m.\u001b[39mon_train_batch_end(step, logs)\n\u001b[1;32m    322\u001b[0m     \u001b[38;5;28;01mif\u001b[39;00m \u001b[38;5;28mself\u001b[39m\u001b[38;5;241m.\u001b[39mstop_training:\n",
      "File \u001b[0;32m~/miniforge3/envs/robot-vlp/lib/python3.10/site-packages/tensorflow/python/util/traceback_utils.py:150\u001b[0m, in \u001b[0;36mfilter_traceback.<locals>.error_handler\u001b[0;34m(*args, **kwargs)\u001b[0m\n\u001b[1;32m    148\u001b[0m filtered_tb \u001b[38;5;241m=\u001b[39m \u001b[38;5;28;01mNone\u001b[39;00m\n\u001b[1;32m    149\u001b[0m \u001b[38;5;28;01mtry\u001b[39;00m:\n\u001b[0;32m--> 150\u001b[0m   \u001b[38;5;28;01mreturn\u001b[39;00m \u001b[43mfn\u001b[49m\u001b[43m(\u001b[49m\u001b[38;5;241;43m*\u001b[39;49m\u001b[43margs\u001b[49m\u001b[43m,\u001b[49m\u001b[43m \u001b[49m\u001b[38;5;241;43m*\u001b[39;49m\u001b[38;5;241;43m*\u001b[39;49m\u001b[43mkwargs\u001b[49m\u001b[43m)\u001b[49m\n\u001b[1;32m    151\u001b[0m \u001b[38;5;28;01mexcept\u001b[39;00m \u001b[38;5;167;01mException\u001b[39;00m \u001b[38;5;28;01mas\u001b[39;00m e:\n\u001b[1;32m    152\u001b[0m   filtered_tb \u001b[38;5;241m=\u001b[39m _process_traceback_frames(e\u001b[38;5;241m.\u001b[39m__traceback__)\n",
      "File \u001b[0;32m~/miniforge3/envs/robot-vlp/lib/python3.10/site-packages/tensorflow/python/eager/polymorphic_function/polymorphic_function.py:833\u001b[0m, in \u001b[0;36mFunction.__call__\u001b[0;34m(self, *args, **kwds)\u001b[0m\n\u001b[1;32m    830\u001b[0m compiler \u001b[38;5;241m=\u001b[39m \u001b[38;5;124m\"\u001b[39m\u001b[38;5;124mxla\u001b[39m\u001b[38;5;124m\"\u001b[39m \u001b[38;5;28;01mif\u001b[39;00m \u001b[38;5;28mself\u001b[39m\u001b[38;5;241m.\u001b[39m_jit_compile \u001b[38;5;28;01melse\u001b[39;00m \u001b[38;5;124m\"\u001b[39m\u001b[38;5;124mnonXla\u001b[39m\u001b[38;5;124m\"\u001b[39m\n\u001b[1;32m    832\u001b[0m \u001b[38;5;28;01mwith\u001b[39;00m OptionalXlaContext(\u001b[38;5;28mself\u001b[39m\u001b[38;5;241m.\u001b[39m_jit_compile):\n\u001b[0;32m--> 833\u001b[0m   result \u001b[38;5;241m=\u001b[39m \u001b[38;5;28;43mself\u001b[39;49m\u001b[38;5;241;43m.\u001b[39;49m\u001b[43m_call\u001b[49m\u001b[43m(\u001b[49m\u001b[38;5;241;43m*\u001b[39;49m\u001b[43margs\u001b[49m\u001b[43m,\u001b[49m\u001b[43m \u001b[49m\u001b[38;5;241;43m*\u001b[39;49m\u001b[38;5;241;43m*\u001b[39;49m\u001b[43mkwds\u001b[49m\u001b[43m)\u001b[49m\n\u001b[1;32m    835\u001b[0m new_tracing_count \u001b[38;5;241m=\u001b[39m \u001b[38;5;28mself\u001b[39m\u001b[38;5;241m.\u001b[39mexperimental_get_tracing_count()\n\u001b[1;32m    836\u001b[0m without_tracing \u001b[38;5;241m=\u001b[39m (tracing_count \u001b[38;5;241m==\u001b[39m new_tracing_count)\n",
      "File \u001b[0;32m~/miniforge3/envs/robot-vlp/lib/python3.10/site-packages/tensorflow/python/eager/polymorphic_function/polymorphic_function.py:878\u001b[0m, in \u001b[0;36mFunction._call\u001b[0;34m(self, *args, **kwds)\u001b[0m\n\u001b[1;32m    875\u001b[0m \u001b[38;5;28mself\u001b[39m\u001b[38;5;241m.\u001b[39m_lock\u001b[38;5;241m.\u001b[39mrelease()\n\u001b[1;32m    876\u001b[0m \u001b[38;5;66;03m# In this case we have not created variables on the first call. So we can\u001b[39;00m\n\u001b[1;32m    877\u001b[0m \u001b[38;5;66;03m# run the first trace but we should fail if variables are created.\u001b[39;00m\n\u001b[0;32m--> 878\u001b[0m results \u001b[38;5;241m=\u001b[39m \u001b[43mtracing_compilation\u001b[49m\u001b[38;5;241;43m.\u001b[39;49m\u001b[43mcall_function\u001b[49m\u001b[43m(\u001b[49m\n\u001b[1;32m    879\u001b[0m \u001b[43m    \u001b[49m\u001b[43margs\u001b[49m\u001b[43m,\u001b[49m\u001b[43m \u001b[49m\u001b[43mkwds\u001b[49m\u001b[43m,\u001b[49m\u001b[43m \u001b[49m\u001b[38;5;28;43mself\u001b[39;49m\u001b[38;5;241;43m.\u001b[39;49m\u001b[43m_variable_creation_config\u001b[49m\n\u001b[1;32m    880\u001b[0m \u001b[43m\u001b[49m\u001b[43m)\u001b[49m\n\u001b[1;32m    881\u001b[0m \u001b[38;5;28;01mif\u001b[39;00m \u001b[38;5;28mself\u001b[39m\u001b[38;5;241m.\u001b[39m_created_variables:\n\u001b[1;32m    882\u001b[0m   \u001b[38;5;28;01mraise\u001b[39;00m \u001b[38;5;167;01mValueError\u001b[39;00m(\u001b[38;5;124m\"\u001b[39m\u001b[38;5;124mCreating variables on a non-first call to a function\u001b[39m\u001b[38;5;124m\"\u001b[39m\n\u001b[1;32m    883\u001b[0m                    \u001b[38;5;124m\"\u001b[39m\u001b[38;5;124m decorated with tf.function.\u001b[39m\u001b[38;5;124m\"\u001b[39m)\n",
      "File \u001b[0;32m~/miniforge3/envs/robot-vlp/lib/python3.10/site-packages/tensorflow/python/eager/polymorphic_function/tracing_compilation.py:139\u001b[0m, in \u001b[0;36mcall_function\u001b[0;34m(args, kwargs, tracing_options)\u001b[0m\n\u001b[1;32m    137\u001b[0m bound_args \u001b[38;5;241m=\u001b[39m function\u001b[38;5;241m.\u001b[39mfunction_type\u001b[38;5;241m.\u001b[39mbind(\u001b[38;5;241m*\u001b[39margs, \u001b[38;5;241m*\u001b[39m\u001b[38;5;241m*\u001b[39mkwargs)\n\u001b[1;32m    138\u001b[0m flat_inputs \u001b[38;5;241m=\u001b[39m function\u001b[38;5;241m.\u001b[39mfunction_type\u001b[38;5;241m.\u001b[39munpack_inputs(bound_args)\n\u001b[0;32m--> 139\u001b[0m \u001b[38;5;28;01mreturn\u001b[39;00m \u001b[43mfunction\u001b[49m\u001b[38;5;241;43m.\u001b[39;49m\u001b[43m_call_flat\u001b[49m\u001b[43m(\u001b[49m\u001b[43m  \u001b[49m\u001b[38;5;66;43;03m# pylint: disable=protected-access\u001b[39;49;00m\n\u001b[1;32m    140\u001b[0m \u001b[43m    \u001b[49m\u001b[43mflat_inputs\u001b[49m\u001b[43m,\u001b[49m\u001b[43m \u001b[49m\u001b[43mcaptured_inputs\u001b[49m\u001b[38;5;241;43m=\u001b[39;49m\u001b[43mfunction\u001b[49m\u001b[38;5;241;43m.\u001b[39;49m\u001b[43mcaptured_inputs\u001b[49m\n\u001b[1;32m    141\u001b[0m \u001b[43m\u001b[49m\u001b[43m)\u001b[49m\n",
      "File \u001b[0;32m~/miniforge3/envs/robot-vlp/lib/python3.10/site-packages/tensorflow/python/eager/polymorphic_function/concrete_function.py:1322\u001b[0m, in \u001b[0;36mConcreteFunction._call_flat\u001b[0;34m(self, tensor_inputs, captured_inputs)\u001b[0m\n\u001b[1;32m   1318\u001b[0m possible_gradient_type \u001b[38;5;241m=\u001b[39m gradients_util\u001b[38;5;241m.\u001b[39mPossibleTapeGradientTypes(args)\n\u001b[1;32m   1319\u001b[0m \u001b[38;5;28;01mif\u001b[39;00m (possible_gradient_type \u001b[38;5;241m==\u001b[39m gradients_util\u001b[38;5;241m.\u001b[39mPOSSIBLE_GRADIENT_TYPES_NONE\n\u001b[1;32m   1320\u001b[0m     \u001b[38;5;129;01mand\u001b[39;00m executing_eagerly):\n\u001b[1;32m   1321\u001b[0m   \u001b[38;5;66;03m# No tape is watching; skip to running the function.\u001b[39;00m\n\u001b[0;32m-> 1322\u001b[0m   \u001b[38;5;28;01mreturn\u001b[39;00m \u001b[38;5;28;43mself\u001b[39;49m\u001b[38;5;241;43m.\u001b[39;49m\u001b[43m_inference_function\u001b[49m\u001b[38;5;241;43m.\u001b[39;49m\u001b[43mcall_preflattened\u001b[49m\u001b[43m(\u001b[49m\u001b[43margs\u001b[49m\u001b[43m)\u001b[49m\n\u001b[1;32m   1323\u001b[0m forward_backward \u001b[38;5;241m=\u001b[39m \u001b[38;5;28mself\u001b[39m\u001b[38;5;241m.\u001b[39m_select_forward_and_backward_functions(\n\u001b[1;32m   1324\u001b[0m     args,\n\u001b[1;32m   1325\u001b[0m     possible_gradient_type,\n\u001b[1;32m   1326\u001b[0m     executing_eagerly)\n\u001b[1;32m   1327\u001b[0m forward_function, args_with_tangents \u001b[38;5;241m=\u001b[39m forward_backward\u001b[38;5;241m.\u001b[39mforward()\n",
      "File \u001b[0;32m~/miniforge3/envs/robot-vlp/lib/python3.10/site-packages/tensorflow/python/eager/polymorphic_function/atomic_function.py:216\u001b[0m, in \u001b[0;36mAtomicFunction.call_preflattened\u001b[0;34m(self, args)\u001b[0m\n\u001b[1;32m    214\u001b[0m \u001b[38;5;28;01mdef\u001b[39;00m \u001b[38;5;21mcall_preflattened\u001b[39m(\u001b[38;5;28mself\u001b[39m, args: Sequence[core\u001b[38;5;241m.\u001b[39mTensor]) \u001b[38;5;241m-\u001b[39m\u001b[38;5;241m>\u001b[39m Any:\n\u001b[1;32m    215\u001b[0m \u001b[38;5;250m  \u001b[39m\u001b[38;5;124;03m\"\"\"Calls with flattened tensor inputs and returns the structured output.\"\"\"\u001b[39;00m\n\u001b[0;32m--> 216\u001b[0m   flat_outputs \u001b[38;5;241m=\u001b[39m \u001b[38;5;28;43mself\u001b[39;49m\u001b[38;5;241;43m.\u001b[39;49m\u001b[43mcall_flat\u001b[49m\u001b[43m(\u001b[49m\u001b[38;5;241;43m*\u001b[39;49m\u001b[43margs\u001b[49m\u001b[43m)\u001b[49m\n\u001b[1;32m    217\u001b[0m   \u001b[38;5;28;01mreturn\u001b[39;00m \u001b[38;5;28mself\u001b[39m\u001b[38;5;241m.\u001b[39mfunction_type\u001b[38;5;241m.\u001b[39mpack_output(flat_outputs)\n",
      "File \u001b[0;32m~/miniforge3/envs/robot-vlp/lib/python3.10/site-packages/tensorflow/python/eager/polymorphic_function/atomic_function.py:251\u001b[0m, in \u001b[0;36mAtomicFunction.call_flat\u001b[0;34m(self, *args)\u001b[0m\n\u001b[1;32m    249\u001b[0m \u001b[38;5;28;01mwith\u001b[39;00m record\u001b[38;5;241m.\u001b[39mstop_recording():\n\u001b[1;32m    250\u001b[0m   \u001b[38;5;28;01mif\u001b[39;00m \u001b[38;5;28mself\u001b[39m\u001b[38;5;241m.\u001b[39m_bound_context\u001b[38;5;241m.\u001b[39mexecuting_eagerly():\n\u001b[0;32m--> 251\u001b[0m     outputs \u001b[38;5;241m=\u001b[39m \u001b[38;5;28;43mself\u001b[39;49m\u001b[38;5;241;43m.\u001b[39;49m\u001b[43m_bound_context\u001b[49m\u001b[38;5;241;43m.\u001b[39;49m\u001b[43mcall_function\u001b[49m\u001b[43m(\u001b[49m\n\u001b[1;32m    252\u001b[0m \u001b[43m        \u001b[49m\u001b[38;5;28;43mself\u001b[39;49m\u001b[38;5;241;43m.\u001b[39;49m\u001b[43mname\u001b[49m\u001b[43m,\u001b[49m\n\u001b[1;32m    253\u001b[0m \u001b[43m        \u001b[49m\u001b[38;5;28;43mlist\u001b[39;49m\u001b[43m(\u001b[49m\u001b[43margs\u001b[49m\u001b[43m)\u001b[49m\u001b[43m,\u001b[49m\n\u001b[1;32m    254\u001b[0m \u001b[43m        \u001b[49m\u001b[38;5;28;43mlen\u001b[39;49m\u001b[43m(\u001b[49m\u001b[38;5;28;43mself\u001b[39;49m\u001b[38;5;241;43m.\u001b[39;49m\u001b[43mfunction_type\u001b[49m\u001b[38;5;241;43m.\u001b[39;49m\u001b[43mflat_outputs\u001b[49m\u001b[43m)\u001b[49m\u001b[43m,\u001b[49m\n\u001b[1;32m    255\u001b[0m \u001b[43m    \u001b[49m\u001b[43m)\u001b[49m\n\u001b[1;32m    256\u001b[0m   \u001b[38;5;28;01melse\u001b[39;00m:\n\u001b[1;32m    257\u001b[0m     outputs \u001b[38;5;241m=\u001b[39m make_call_op_in_graph(\n\u001b[1;32m    258\u001b[0m         \u001b[38;5;28mself\u001b[39m,\n\u001b[1;32m    259\u001b[0m         \u001b[38;5;28mlist\u001b[39m(args),\n\u001b[1;32m    260\u001b[0m         \u001b[38;5;28mself\u001b[39m\u001b[38;5;241m.\u001b[39m_bound_context\u001b[38;5;241m.\u001b[39mfunction_call_options\u001b[38;5;241m.\u001b[39mas_attrs(),\n\u001b[1;32m    261\u001b[0m     )\n",
      "File \u001b[0;32m~/miniforge3/envs/robot-vlp/lib/python3.10/site-packages/tensorflow/python/eager/context.py:1500\u001b[0m, in \u001b[0;36mContext.call_function\u001b[0;34m(self, name, tensor_inputs, num_outputs)\u001b[0m\n\u001b[1;32m   1498\u001b[0m cancellation_context \u001b[38;5;241m=\u001b[39m cancellation\u001b[38;5;241m.\u001b[39mcontext()\n\u001b[1;32m   1499\u001b[0m \u001b[38;5;28;01mif\u001b[39;00m cancellation_context \u001b[38;5;129;01mis\u001b[39;00m \u001b[38;5;28;01mNone\u001b[39;00m:\n\u001b[0;32m-> 1500\u001b[0m   outputs \u001b[38;5;241m=\u001b[39m \u001b[43mexecute\u001b[49m\u001b[38;5;241;43m.\u001b[39;49m\u001b[43mexecute\u001b[49m\u001b[43m(\u001b[49m\n\u001b[1;32m   1501\u001b[0m \u001b[43m      \u001b[49m\u001b[43mname\u001b[49m\u001b[38;5;241;43m.\u001b[39;49m\u001b[43mdecode\u001b[49m\u001b[43m(\u001b[49m\u001b[38;5;124;43m\"\u001b[39;49m\u001b[38;5;124;43mutf-8\u001b[39;49m\u001b[38;5;124;43m\"\u001b[39;49m\u001b[43m)\u001b[49m\u001b[43m,\u001b[49m\n\u001b[1;32m   1502\u001b[0m \u001b[43m      \u001b[49m\u001b[43mnum_outputs\u001b[49m\u001b[38;5;241;43m=\u001b[39;49m\u001b[43mnum_outputs\u001b[49m\u001b[43m,\u001b[49m\n\u001b[1;32m   1503\u001b[0m \u001b[43m      \u001b[49m\u001b[43minputs\u001b[49m\u001b[38;5;241;43m=\u001b[39;49m\u001b[43mtensor_inputs\u001b[49m\u001b[43m,\u001b[49m\n\u001b[1;32m   1504\u001b[0m \u001b[43m      \u001b[49m\u001b[43mattrs\u001b[49m\u001b[38;5;241;43m=\u001b[39;49m\u001b[43mattrs\u001b[49m\u001b[43m,\u001b[49m\n\u001b[1;32m   1505\u001b[0m \u001b[43m      \u001b[49m\u001b[43mctx\u001b[49m\u001b[38;5;241;43m=\u001b[39;49m\u001b[38;5;28;43mself\u001b[39;49m\u001b[43m,\u001b[49m\n\u001b[1;32m   1506\u001b[0m \u001b[43m  \u001b[49m\u001b[43m)\u001b[49m\n\u001b[1;32m   1507\u001b[0m \u001b[38;5;28;01melse\u001b[39;00m:\n\u001b[1;32m   1508\u001b[0m   outputs \u001b[38;5;241m=\u001b[39m execute\u001b[38;5;241m.\u001b[39mexecute_with_cancellation(\n\u001b[1;32m   1509\u001b[0m       name\u001b[38;5;241m.\u001b[39mdecode(\u001b[38;5;124m\"\u001b[39m\u001b[38;5;124mutf-8\u001b[39m\u001b[38;5;124m\"\u001b[39m),\n\u001b[1;32m   1510\u001b[0m       num_outputs\u001b[38;5;241m=\u001b[39mnum_outputs,\n\u001b[0;32m   (...)\u001b[0m\n\u001b[1;32m   1514\u001b[0m       cancellation_manager\u001b[38;5;241m=\u001b[39mcancellation_context,\n\u001b[1;32m   1515\u001b[0m   )\n",
      "File \u001b[0;32m~/miniforge3/envs/robot-vlp/lib/python3.10/site-packages/tensorflow/python/eager/execute.py:53\u001b[0m, in \u001b[0;36mquick_execute\u001b[0;34m(op_name, num_outputs, inputs, attrs, ctx, name)\u001b[0m\n\u001b[1;32m     51\u001b[0m \u001b[38;5;28;01mtry\u001b[39;00m:\n\u001b[1;32m     52\u001b[0m   ctx\u001b[38;5;241m.\u001b[39mensure_initialized()\n\u001b[0;32m---> 53\u001b[0m   tensors \u001b[38;5;241m=\u001b[39m \u001b[43mpywrap_tfe\u001b[49m\u001b[38;5;241;43m.\u001b[39;49m\u001b[43mTFE_Py_Execute\u001b[49m\u001b[43m(\u001b[49m\u001b[43mctx\u001b[49m\u001b[38;5;241;43m.\u001b[39;49m\u001b[43m_handle\u001b[49m\u001b[43m,\u001b[49m\u001b[43m \u001b[49m\u001b[43mdevice_name\u001b[49m\u001b[43m,\u001b[49m\u001b[43m \u001b[49m\u001b[43mop_name\u001b[49m\u001b[43m,\u001b[49m\n\u001b[1;32m     54\u001b[0m \u001b[43m                                      \u001b[49m\u001b[43minputs\u001b[49m\u001b[43m,\u001b[49m\u001b[43m \u001b[49m\u001b[43mattrs\u001b[49m\u001b[43m,\u001b[49m\u001b[43m \u001b[49m\u001b[43mnum_outputs\u001b[49m\u001b[43m)\u001b[49m\n\u001b[1;32m     55\u001b[0m \u001b[38;5;28;01mexcept\u001b[39;00m core\u001b[38;5;241m.\u001b[39m_NotOkStatusException \u001b[38;5;28;01mas\u001b[39;00m e:\n\u001b[1;32m     56\u001b[0m   \u001b[38;5;28;01mif\u001b[39;00m name \u001b[38;5;129;01mis\u001b[39;00m \u001b[38;5;129;01mnot\u001b[39;00m \u001b[38;5;28;01mNone\u001b[39;00m:\n",
      "\u001b[0;31mKeyboardInterrupt\u001b[0m: "
     ]
    }
   ],
   "source": [
    "tuner = kt.RandomSearch(\n",
    "    rnn.build_optimization_model,  # Stage 3 model function\n",
    "    objective=\"val_loss\",\n",
    "    max_trials=50,\n",
    "    directory=\"rnn_tuning_stage3\",\n",
    "    project_name=\"rnn_opt_tuning\",\n",
    "    overwrite=True\n",
    ")\n",
    "\n",
    "tensorboard_callback = tf.keras.callbacks.TensorBoard(\"logs/opt_tuning\", histogram_freq=1)\n",
    "\n",
    "tuner.search(\n",
    "    X_train_scaled, expand(y_train),\n",
    "    epochs=100,\n",
    "    validation_split=0.2,\n",
    "    callbacks=[\n",
    "        keras.callbacks.EarlyStopping(monitor=\"val_loss\", patience=5, restore_best_weights=True),\n",
    "        tensorboard_callback\n",
    "    ]\n",
    ")\n"
   ]
  },
  {
   "cell_type": "code",
   "execution_count": 17,
   "metadata": {},
   "outputs": [
    {
     "name": "stdout",
     "output_type": "stream",
     "text": [
      "Best hyperparameters:\n",
      "{'lr': 0.005663272327474776, 'lr_scheduler': 'cosine', 'optimizer': 'nadam'}\n"
     ]
    }
   ],
   "source": [
    "best_hps = tuner.get_best_hyperparameters(num_trials=1)[0]\n",
    "print(\"Best hyperparameters:\")\n",
    "print(best_hps.values)"
   ]
  },
  {
   "cell_type": "markdown",
   "metadata": {},
   "source": [
    "### Stage 4 Tuning - Other hyperparameters"
   ]
  },
  {
   "cell_type": "code",
   "execution_count": 18,
   "metadata": {},
   "outputs": [
    {
     "name": "stdout",
     "output_type": "stream",
     "text": [
      "Trial 5 Complete [00h 03m 31s]\n",
      "val_loss: 0.0031432511750608683\n",
      "\n",
      "Best val_loss So Far: 0.0031432511750608683\n",
      "Total elapsed time: 00h 10m 31s\n"
     ]
    }
   ],
   "source": [
    "tuner = kt.GridSearch(\n",
    "    rnn.build_stage4_model,  # Stage 4 model function\n",
    "    objective=kt.Objective(\"val_loss\", direction=\"min\"),\n",
    "    directory=\"rnn_tuning_stage4\",  # New directory for stage 4\n",
    "    project_name=\"rnn_extra_tuning\",\n",
    "    overwrite=True\n",
    ")\n",
    "\n",
    "tensorboard_callback = tf.keras.callbacks.TensorBoard(\"logs/stage4\", histogram_freq=1)\n",
    "\n",
    "tuner.search(\n",
    "    X_train_scaled, expand(y_train),\n",
    "    epochs=100,\n",
    "    validation_split=0.2,\n",
    "    callbacks=[\n",
    "        keras.callbacks.EarlyStopping(monitor=\"val_loss\", patience=5, restore_best_weights=True),\n",
    "        tensorboard_callback\n",
    "    ]\n",
    ")\n"
   ]
  },
  {
   "cell_type": "code",
   "execution_count": null,
   "metadata": {},
   "outputs": [],
   "source": [
    "# 1) After tuner.search(…):\n",
    "best_hp = tuner.get_best_hyperparameters(num_trials=1)[0]\n",
    "\n",
    "# 2) Update your GLOBAL_CONFIG\n",
    "GLOBAL_CONFIG[\"optimization_defaults\"] = {\n",
    "    \"lr\":        best_hp.get(\"lr\"),\n",
    "    \"optimizer\": best_hp.get(\"optimizer\"),\n",
    "    # if you ever add a scheduler HP:\n",
    "    # \"scheduler\": best_hp.get(\"lr_scheduler\"),\n",
    "    # and you can also leave decay_steps as-is or tune it\n",
    "    \"decay_steps\": GLOBAL_CONFIG[\"optimization_defaults\"][\"decay_steps\"]\n",
    "}\n",
    "\n",
    "# 3) (Optional) Persist it\n",
    "import json\n",
    "with open(\"config.json\", \"w\") as f:\n",
    "    json.dump(GLOBAL_CONFIG, f, indent=2)\n",
    "\n",
    "print(\"✅ GLOBAL_CONFIG[\\\"optimization_defaults\\\"] =\", GLOBAL_CONFIG[\"optimization_defaults\"])\n"
   ]
  },
  {
   "cell_type": "code",
   "execution_count": 19,
   "metadata": {},
   "outputs": [
    {
     "name": "stdout",
     "output_type": "stream",
     "text": [
      "Best hyperparameters:\n",
      "{'sequence_length': 50}\n"
     ]
    }
   ],
   "source": [
    "best_hps = tuner.get_best_hyperparameters(num_trials=1)[0]\n",
    "print(\"Best hyperparameters:\")\n",
    "print(best_hps.values)"
   ]
  },
  {
   "cell_type": "markdown",
   "metadata": {},
   "source": [
    "### Final model"
   ]
  },
  {
   "cell_type": "code",
   "execution_count": 6,
   "metadata": {},
   "outputs": [
    {
     "name": "stdout",
     "output_type": "stream",
     "text": [
      "Epoch 1/200\n",
      "\u001b[1m368/368\u001b[0m \u001b[32m━━━━━━━━━━━━━━━━━━━━\u001b[0m\u001b[37m\u001b[0m \u001b[1m20s\u001b[0m 48ms/step - angle_output_loss: 0.1484 - loc_output_loss: 0.0209 - loss: 0.1693 - val_angle_output_loss: 0.0263 - val_loc_output_loss: 0.0094 - val_loss: 0.0356\n",
      "Epoch 2/200\n",
      "\u001b[1m368/368\u001b[0m \u001b[32m━━━━━━━━━━━━━━━━━━━━\u001b[0m\u001b[37m\u001b[0m \u001b[1m16s\u001b[0m 43ms/step - angle_output_loss: 0.0258 - loc_output_loss: 0.0072 - loss: 0.0331 - val_angle_output_loss: 0.0157 - val_loc_output_loss: 0.0068 - val_loss: 0.0223\n",
      "Epoch 3/200\n",
      "\u001b[1m368/368\u001b[0m \u001b[32m━━━━━━━━━━━━━━━━━━━━\u001b[0m\u001b[37m\u001b[0m \u001b[1m16s\u001b[0m 43ms/step - angle_output_loss: 0.0206 - loc_output_loss: 0.0064 - loss: 0.0270 - val_angle_output_loss: 0.0175 - val_loc_output_loss: 0.0066 - val_loss: 0.0238\n",
      "Epoch 4/200\n",
      "\u001b[1m368/368\u001b[0m \u001b[32m━━━━━━━━━━━━━━━━━━━━\u001b[0m\u001b[37m\u001b[0m \u001b[1m16s\u001b[0m 43ms/step - angle_output_loss: 0.0174 - loc_output_loss: 0.0057 - loss: 0.0232 - val_angle_output_loss: 0.0134 - val_loc_output_loss: 0.0067 - val_loss: 0.0201\n",
      "Epoch 5/200\n",
      "\u001b[1m368/368\u001b[0m \u001b[32m━━━━━━━━━━━━━━━━━━━━\u001b[0m\u001b[37m\u001b[0m \u001b[1m16s\u001b[0m 44ms/step - angle_output_loss: 0.0153 - loc_output_loss: 0.0053 - loss: 0.0206 - val_angle_output_loss: 0.0162 - val_loc_output_loss: 0.0068 - val_loss: 0.0229\n",
      "Epoch 6/200\n",
      "\u001b[1m368/368\u001b[0m \u001b[32m━━━━━━━━━━━━━━━━━━━━\u001b[0m\u001b[37m\u001b[0m \u001b[1m16s\u001b[0m 45ms/step - angle_output_loss: 0.0160 - loc_output_loss: 0.0050 - loss: 0.0210 - val_angle_output_loss: 0.0118 - val_loc_output_loss: 0.0055 - val_loss: 0.0173\n",
      "Epoch 7/200\n",
      "\u001b[1m368/368\u001b[0m \u001b[32m━━━━━━━━━━━━━━━━━━━━\u001b[0m\u001b[37m\u001b[0m \u001b[1m18s\u001b[0m 49ms/step - angle_output_loss: 0.0128 - loc_output_loss: 0.0045 - loss: 0.0174 - val_angle_output_loss: 0.0114 - val_loc_output_loss: 0.0056 - val_loss: 0.0168\n",
      "Epoch 8/200\n",
      "\u001b[1m368/368\u001b[0m \u001b[32m━━━━━━━━━━━━━━━━━━━━\u001b[0m\u001b[37m\u001b[0m \u001b[1m16s\u001b[0m 45ms/step - angle_output_loss: 0.0110 - loc_output_loss: 0.0042 - loss: 0.0152 - val_angle_output_loss: 0.0091 - val_loc_output_loss: 0.0059 - val_loss: 0.0148\n",
      "Epoch 9/200\n",
      "\u001b[1m368/368\u001b[0m \u001b[32m━━━━━━━━━━━━━━━━━━━━\u001b[0m\u001b[37m\u001b[0m \u001b[1m17s\u001b[0m 47ms/step - angle_output_loss: 0.0099 - loc_output_loss: 0.0040 - loss: 0.0139 - val_angle_output_loss: 0.0113 - val_loc_output_loss: 0.0060 - val_loss: 0.0173\n",
      "Epoch 10/200\n",
      "\u001b[1m368/368\u001b[0m \u001b[32m━━━━━━━━━━━━━━━━━━━━\u001b[0m\u001b[37m\u001b[0m \u001b[1m17s\u001b[0m 46ms/step - angle_output_loss: 0.0093 - loc_output_loss: 0.0037 - loss: 0.0130 - val_angle_output_loss: 0.0078 - val_loc_output_loss: 0.0067 - val_loss: 0.0144\n",
      "Epoch 11/200\n",
      "\u001b[1m368/368\u001b[0m \u001b[32m━━━━━━━━━━━━━━━━━━━━\u001b[0m\u001b[37m\u001b[0m \u001b[1m17s\u001b[0m 47ms/step - angle_output_loss: 0.0083 - loc_output_loss: 0.0033 - loss: 0.0116 - val_angle_output_loss: 0.0079 - val_loc_output_loss: 0.0054 - val_loss: 0.0133\n",
      "Epoch 12/200\n",
      "\u001b[1m368/368\u001b[0m \u001b[32m━━━━━━━━━━━━━━━━━━━━\u001b[0m\u001b[37m\u001b[0m \u001b[1m17s\u001b[0m 47ms/step - angle_output_loss: 0.0073 - loc_output_loss: 0.0029 - loss: 0.0102 - val_angle_output_loss: 0.0080 - val_loc_output_loss: 0.0061 - val_loss: 0.0140\n",
      "Epoch 13/200\n",
      "\u001b[1m368/368\u001b[0m \u001b[32m━━━━━━━━━━━━━━━━━━━━\u001b[0m\u001b[37m\u001b[0m \u001b[1m18s\u001b[0m 48ms/step - angle_output_loss: 0.0061 - loc_output_loss: 0.0026 - loss: 0.0087 - val_angle_output_loss: 0.0065 - val_loc_output_loss: 0.0054 - val_loss: 0.0117\n",
      "Epoch 14/200\n",
      "\u001b[1m368/368\u001b[0m \u001b[32m━━━━━━━━━━━━━━━━━━━━\u001b[0m\u001b[37m\u001b[0m \u001b[1m17s\u001b[0m 45ms/step - angle_output_loss: 0.0049 - loc_output_loss: 0.0022 - loss: 0.0071 - val_angle_output_loss: 0.0056 - val_loc_output_loss: 0.0062 - val_loss: 0.0117\n",
      "Epoch 15/200\n",
      "\u001b[1m368/368\u001b[0m \u001b[32m━━━━━━━━━━━━━━━━━━━━\u001b[0m\u001b[37m\u001b[0m \u001b[1m16s\u001b[0m 43ms/step - angle_output_loss: 0.0043 - loc_output_loss: 0.0020 - loss: 0.0064 - val_angle_output_loss: 0.0051 - val_loc_output_loss: 0.0058 - val_loss: 0.0109\n",
      "Epoch 16/200\n",
      "\u001b[1m368/368\u001b[0m \u001b[32m━━━━━━━━━━━━━━━━━━━━\u001b[0m\u001b[37m\u001b[0m \u001b[1m18s\u001b[0m 48ms/step - angle_output_loss: 0.0034 - loc_output_loss: 0.0017 - loss: 0.0051 - val_angle_output_loss: 0.0052 - val_loc_output_loss: 0.0058 - val_loss: 0.0110\n",
      "Epoch 17/200\n",
      "\u001b[1m368/368\u001b[0m \u001b[32m━━━━━━━━━━━━━━━━━━━━\u001b[0m\u001b[37m\u001b[0m \u001b[1m17s\u001b[0m 47ms/step - angle_output_loss: 0.0031 - loc_output_loss: 0.0015 - loss: 0.0045 - val_angle_output_loss: 0.0049 - val_loc_output_loss: 0.0057 - val_loss: 0.0105\n",
      "Epoch 18/200\n",
      "\u001b[1m368/368\u001b[0m \u001b[32m━━━━━━━━━━━━━━━━━━━━\u001b[0m\u001b[37m\u001b[0m \u001b[1m17s\u001b[0m 46ms/step - angle_output_loss: 0.0024 - loc_output_loss: 0.0012 - loss: 0.0037 - val_angle_output_loss: 0.0038 - val_loc_output_loss: 0.0056 - val_loss: 0.0094\n",
      "Epoch 19/200\n",
      "\u001b[1m368/368\u001b[0m \u001b[32m━━━━━━━━━━━━━━━━━━━━\u001b[0m\u001b[37m\u001b[0m \u001b[1m17s\u001b[0m 47ms/step - angle_output_loss: 0.0019 - loc_output_loss: 0.0011 - loss: 0.0030 - val_angle_output_loss: 0.0046 - val_loc_output_loss: 0.0056 - val_loss: 0.0101\n",
      "Epoch 20/200\n",
      "\u001b[1m368/368\u001b[0m \u001b[32m━━━━━━━━━━━━━━━━━━━━\u001b[0m\u001b[37m\u001b[0m \u001b[1m18s\u001b[0m 49ms/step - angle_output_loss: 0.0016 - loc_output_loss: 8.9680e-04 - loss: 0.0025 - val_angle_output_loss: 0.0043 - val_loc_output_loss: 0.0055 - val_loss: 0.0098\n",
      "Epoch 21/200\n",
      "\u001b[1m368/368\u001b[0m \u001b[32m━━━━━━━━━━━━━━━━━━━━\u001b[0m\u001b[37m\u001b[0m \u001b[1m18s\u001b[0m 48ms/step - angle_output_loss: 0.0013 - loc_output_loss: 7.7702e-04 - loss: 0.0021 - val_angle_output_loss: 0.0039 - val_loc_output_loss: 0.0056 - val_loss: 0.0095\n",
      "Epoch 22/200\n",
      "\u001b[1m368/368\u001b[0m \u001b[32m━━━━━━━━━━━━━━━━━━━━\u001b[0m\u001b[37m\u001b[0m \u001b[1m17s\u001b[0m 47ms/step - angle_output_loss: 0.0011 - loc_output_loss: 6.8735e-04 - loss: 0.0018 - val_angle_output_loss: 0.0040 - val_loc_output_loss: 0.0057 - val_loss: 0.0096\n",
      "Epoch 23/200\n",
      "\u001b[1m368/368\u001b[0m \u001b[32m━━━━━━━━━━━━━━━━━━━━\u001b[0m\u001b[37m\u001b[0m \u001b[1m18s\u001b[0m 49ms/step - angle_output_loss: 9.3519e-04 - loc_output_loss: 5.9687e-04 - loss: 0.0015 - val_angle_output_loss: 0.0040 - val_loc_output_loss: 0.0057 - val_loss: 0.0097\n",
      "Epoch 24/200\n",
      "\u001b[1m368/368\u001b[0m \u001b[32m━━━━━━━━━━━━━━━━━━━━\u001b[0m\u001b[37m\u001b[0m \u001b[1m17s\u001b[0m 45ms/step - angle_output_loss: 8.2726e-04 - loc_output_loss: 5.3900e-04 - loss: 0.0014 - val_angle_output_loss: 0.0040 - val_loc_output_loss: 0.0055 - val_loss: 0.0094\n",
      "Epoch 25/200\n",
      "\u001b[1m368/368\u001b[0m \u001b[32m━━━━━━━━━━━━━━━━━━━━\u001b[0m\u001b[37m\u001b[0m \u001b[1m17s\u001b[0m 45ms/step - angle_output_loss: 7.5326e-04 - loc_output_loss: 5.0338e-04 - loss: 0.0013 - val_angle_output_loss: 0.0040 - val_loc_output_loss: 0.0056 - val_loss: 0.0096\n",
      "Epoch 26/200\n",
      "\u001b[1m368/368\u001b[0m \u001b[32m━━━━━━━━━━━━━━━━━━━━\u001b[0m\u001b[37m\u001b[0m \u001b[1m17s\u001b[0m 46ms/step - angle_output_loss: 6.8937e-04 - loc_output_loss: 4.8978e-04 - loss: 0.0012 - val_angle_output_loss: 0.0039 - val_loc_output_loss: 0.0056 - val_loss: 0.0095\n",
      "Epoch 27/200\n",
      "\u001b[1m368/368\u001b[0m \u001b[32m━━━━━━━━━━━━━━━━━━━━\u001b[0m\u001b[37m\u001b[0m \u001b[1m17s\u001b[0m 46ms/step - angle_output_loss: 7.3178e-04 - loc_output_loss: 4.7503e-04 - loss: 0.0012 - val_angle_output_loss: 0.0039 - val_loc_output_loss: 0.0056 - val_loss: 0.0095\n",
      "Epoch 28/200\n",
      "\u001b[1m368/368\u001b[0m \u001b[32m━━━━━━━━━━━━━━━━━━━━\u001b[0m\u001b[37m\u001b[0m \u001b[1m17s\u001b[0m 46ms/step - angle_output_loss: 6.7758e-04 - loc_output_loss: 4.6767e-04 - loss: 0.0011 - val_angle_output_loss: 0.0039 - val_loc_output_loss: 0.0056 - val_loss: 0.0095\n",
      "Epoch 29/200\n",
      "\u001b[1m368/368\u001b[0m \u001b[32m━━━━━━━━━━━━━━━━━━━━\u001b[0m\u001b[37m\u001b[0m \u001b[1m16s\u001b[0m 45ms/step - angle_output_loss: 6.8529e-04 - loc_output_loss: 4.6993e-04 - loss: 0.0012 - val_angle_output_loss: 0.0039 - val_loc_output_loss: 0.0056 - val_loss: 0.0095\n",
      "Epoch 30/200\n",
      "\u001b[1m368/368\u001b[0m \u001b[32m━━━━━━━━━━━━━━━━━━━━\u001b[0m\u001b[37m\u001b[0m \u001b[1m18s\u001b[0m 48ms/step - angle_output_loss: 6.6787e-04 - loc_output_loss: 4.7279e-04 - loss: 0.0011 - val_angle_output_loss: 0.0039 - val_loc_output_loss: 0.0056 - val_loss: 0.0095\n",
      "Epoch 31/200\n",
      "\u001b[1m368/368\u001b[0m \u001b[32m━━━━━━━━━━━━━━━━━━━━\u001b[0m\u001b[37m\u001b[0m \u001b[1m17s\u001b[0m 47ms/step - angle_output_loss: 6.8456e-04 - loc_output_loss: 4.7011e-04 - loss: 0.0012 - val_angle_output_loss: 0.0039 - val_loc_output_loss: 0.0056 - val_loss: 0.0096\n",
      "Epoch 32/200\n",
      "\u001b[1m368/368\u001b[0m \u001b[32m━━━━━━━━━━━━━━━━━━━━\u001b[0m\u001b[37m\u001b[0m \u001b[1m18s\u001b[0m 48ms/step - angle_output_loss: 6.9944e-04 - loc_output_loss: 4.6411e-04 - loss: 0.0012 - val_angle_output_loss: 0.0039 - val_loc_output_loss: 0.0056 - val_loss: 0.0096\n",
      "Epoch 33/200\n",
      "\u001b[1m368/368\u001b[0m \u001b[32m━━━━━━━━━━━━━━━━━━━━\u001b[0m\u001b[37m\u001b[0m \u001b[1m17s\u001b[0m 46ms/step - angle_output_loss: 6.9621e-04 - loc_output_loss: 4.7053e-04 - loss: 0.0012 - val_angle_output_loss: 0.0039 - val_loc_output_loss: 0.0056 - val_loss: 0.0096\n"
     ]
    }
   ],
   "source": [
    "\n",
    "\n",
    "\n",
    "best_model = rnn.build_final_model()\n",
    "\n",
    "\n",
    "history = best_model.fit(\n",
    "    x = X_train[:,-20:,:], \n",
    "    y = expand(y_train),\n",
    "    validation_data=(X_valid[:,-20:,:], expand(y_valid)),\n",
    "    epochs=200, \n",
    "    batch_size=32, \n",
    "    callbacks=[keras.callbacks.EarlyStopping(monitor='val_loss', patience=15, restore_best_weights=True)]\n",
    ")"
   ]
  },
  {
   "cell_type": "code",
   "execution_count": null,
   "metadata": {},
   "outputs": [],
   "source": []
  },
  {
   "cell_type": "code",
   "execution_count": 7,
   "metadata": {},
   "outputs": [
    {
     "name": "stdout",
     "output_type": "stream",
     "text": [
      "\u001b[1m10/10\u001b[0m \u001b[32m━━━━━━━━━━━━━━━━━━━━\u001b[0m\u001b[37m\u001b[0m \u001b[1m1s\u001b[0m 36ms/step\n",
      "vlp pos errs:0.035729372502983685\n",
      "VLP heading errs:9.799845722737722\n",
      "RNN heading errs:4.384888553882215\n"
     ]
    }
   ],
   "source": [
    "pre_loc, pre_ang = best_model.predict(X_test[:,-20:,:])\n",
    "# rnn_loc_errs = calc_loc_err(pre_loc, y_test[:,:2])\n",
    "rnn_ang_errs = vec_to_ang(pre_ang) - y_test[:,2]\n",
    "rnn_ang_errs = np.array([normalize_angle_deg(ang) for ang in rnn_ang_errs])\n",
    "\n",
    "print(f\"vlp pos errs:{vlp_loc_errs.mean()}\")\n",
    "# print(f\"RNN pos errs:{rnn_loc_errs.mean()}\")\n",
    "print(f\"VLP heading errs:{np.abs(vlp_ang_errs).mean()}\")\n",
    "print(f\"RNN heading errs:{np.abs(rnn_ang_errs).mean()}\")"
   ]
  },
  {
   "cell_type": "code",
   "execution_count": 8,
   "metadata": {},
   "outputs": [],
   "source": [
    "best_model.save(MODELS_DIR / 'navigation_neural_nets/rnn.keras')"
   ]
  },
  {
   "cell_type": "code",
   "execution_count": 28,
   "metadata": {},
   "outputs": [
    {
     "data": {
      "text/plain": [
       "<matplotlib.legend.Legend at 0x4ba313c70>"
      ]
     },
     "execution_count": 28,
     "metadata": {},
     "output_type": "execute_result"
    },
    {
     "data": {
      "image/png": "[encoded data removed]",
      "text/plain": [
       "<Figure size 640x480 with 1 Axes>"
      ]
     },
     "metadata": {},
     "output_type": "display_data"
    }
   ],
   "source": [
    "plt.plot(pre_loc[:15,0],pre_loc[:15,1], label = 'predictions', marker = '.')\n",
    "plt.plot(y_train[:15,0], y_train[:15,1], label = 'real', marker = '.')\n",
    "# plt.plot(df['vlp_x_hist'], df['vlp_y_hist'])\n",
    "\n",
    "\n",
    "plt.legend()"
   ]
  },
  {
   "cell_type": "markdown",
   "metadata": {},
   "source": [
    "# MLP implementation"
   ]
  },
  {
   "cell_type": "code",
   "execution_count": 8,
   "metadata": {},
   "outputs": [],
   "source": [
    "import robot_vlp.modeling.mlp as mlp"
   ]
  },
  {
   "cell_type": "code",
   "execution_count": 11,
   "metadata": {},
   "outputs": [
    {
     "data": {
      "text/plain": [
       "(2719, 50, 8)"
      ]
     },
     "execution_count": 11,
     "metadata": {},
     "output_type": "execute_result"
    }
   ],
   "source": [
    "X_test_scaled.shape"
   ]
  },
  {
   "cell_type": "code",
   "execution_count": 13,
   "metadata": {},
   "outputs": [
    {
     "name": "stdout",
     "output_type": "stream",
     "text": [
      "\u001b[1m85/85\u001b[0m \u001b[32m━━━━━━━━━━━━━━━━━━━━\u001b[0m\u001b[37m\u001b[0m \u001b[1m0s\u001b[0m 660us/step\n"
     ]
    }
   ],
   "source": [
    "model = mlp.build_default_mlp()\n",
    "model.summary()\n",
    "\n",
    "\n",
    "\n",
    "\n",
    "\n",
    "history = model.fit(\n",
    "    x = X_train_scaled[:,-1,:], \n",
    "    y = expand(y_train),\n",
    "    validation_data = (X_valid_scaled[:,-1,:],  expand(y_valid)),\n",
    "    epochs=300, \n",
    "    batch_size=32, \n",
    "    callbacks = [keras.callbacks.EarlyStopping(monitor='val_loss', patience=10, restore_best_weights=True)] )\n",
    "\n",
    "\n",
    "pre_loc, pre_ang = model.predict(X_test_scaled[:,-1,:])\n",
    "MLP_loc_errs = calc_loc_err(pre_loc, y_test[:,:2])\n",
    "\n",
    "MLP_ang_errs = vec_to_ang(pre_ang) - y_test[:,2]\n",
    "MLP_ang_errs = np.array([normalize_angle_deg(ang) for ang in MLP_ang_errs])\n",
    "\n",
    "\n",
    "vlp_ang_errs = y_test[:,2] -  X_test[:,-1,2]\n",
    "vlp_ang_errs = np.array([normalize_angle_deg(ang) for ang in vlp_ang_errs])\n",
    "\n",
    "\n",
    "vlp_loc_errs = calc_loc_err(X_test[:,-1,:2], y_test[:,:2])"
   ]
  },
  {
   "cell_type": "code",
   "execution_count": 14,
   "metadata": {},
   "outputs": [
    {
     "name": "stdout",
     "output_type": "stream",
     "text": [
      "vlp pos errs:0.03262546356740901\n",
      "MLP pos errs:0.026327269743040844\n",
      "VLP heading errs:7.89508272141363\n",
      "MLP heading errs:4.941748706240032\n"
     ]
    }
   ],
   "source": [
    "print(f\"vlp pos errs:{vlp_loc_errs.mean()}\")\n",
    "print(f\"MLP pos errs:{MLP_loc_errs.mean()}\")\n",
    "\n",
    "\n",
    "print(f\"VLP heading errs:{np.abs(vlp_ang_errs).mean()}\")\n",
    "print(f\"MLP heading errs:{np.abs(MLP_ang_errs).mean()}\")"
   ]
  },
  {
   "cell_type": "code",
   "execution_count": null,
   "metadata": {},
   "outputs": [],
   "source": []
  }
 ],
 "metadata": {
  "kernelspec": {
   "display_name": "robot-vlp",
   "language": "python",
   "name": "python3"
  },
  "language_info": {
   "codemirror_mode": {
    "name": "ipython",
    "version": 3
   },
   "file_extension": ".py",
   "mimetype": "text/x-python",
   "name": "python",
   "nbconvert_exporter": "python",
   "pygments_lexer": "ipython3",
   "version": "3.10.14"
  }
 },
 "nbformat": 4,
 "nbformat_minor": 2
}
